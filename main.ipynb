{
 "cells": [
  {
   "cell_type": "markdown",
   "id": "5848a027-fec8-4e3d-8f38-352a16097cfe",
   "metadata": {},
   "source": [
    "## Import Libraries"
   ]
  },
  {
   "cell_type": "code",
   "execution_count": 1,
   "id": "30e9d010-0e67-4765-9596-54c0509b5a71",
   "metadata": {},
   "outputs": [],
   "source": [
    "import datetime\n",
    "import time\n",
    "from timeit import default_timer as timer\n",
    "\n",
    "from selenium import webdriver\n",
    "from selenium.webdriver.chrome.options import Options\n",
    "from selenium.webdriver.chrome.service import Service\n",
    "from webdriver_manager.chrome import ChromeDriverManager\n",
    "from selenium.webdriver.common.by import By\n",
    "from selenium.webdriver.support.ui import WebDriverWait\n",
    "from selenium.webdriver.support import expected_conditions as EC\n",
    "from selenium.common.exceptions import TimeoutException\n",
    "import pandas as pd\n",
    "import numpy as np"
   ]
  },
  {
   "cell_type": "markdown",
   "id": "927e12a7-7e80-4b38-82b3-cb2212d7a3c4",
   "metadata": {},
   "source": [
    "### Get Today's Date"
   ]
  },
  {
   "cell_type": "code",
   "execution_count": null,
   "id": "dc806740-0093-4c59-8072-d39760744ec3",
   "metadata": {},
   "outputs": [],
   "source": [
    "str(datetime.date.today())"
   ]
  },
  {
   "cell_type": "markdown",
   "id": "cbb37aea-ebd6-4fad-9ef8-1ec34e60fdc1",
   "metadata": {},
   "source": [
    "### DeprecationWarning\n",
    "path = 'C:\\Program Files (x86)\\chromedriver.exe'\n",
    "driver = webdriver.Chrome(path)\n",
    "\n",
    "driver.get('https://vr.thai.run/lartstu.run/')\n",
    "\n",
    "**Visit reference for solution:**\n",
    "\n",
    "- https://stackoverflow.com/questions/63421086/modulenotfounderror-no-module-named-webdriver-manager-error-even-after-instal"
   ]
  },
  {
   "cell_type": "code",
   "execution_count": null,
   "id": "7434610e-efa2-4154-beaf-700e95bf6860",
   "metadata": {},
   "outputs": [],
   "source": [
    "print(driver.title)"
   ]
  },
  {
   "cell_type": "markdown",
   "id": "8b580b06-8e9d-4f5a-bd3e-f9ac6775564f",
   "metadata": {},
   "source": [
    "## Write Data to DataFrame from python list"
   ]
  },
  {
   "cell_type": "code",
   "execution_count": null,
   "id": "f0fe3859-484c-428a-9008-4d8e6d374341",
   "metadata": {},
   "outputs": [],
   "source": [
    "def dict_to_dataframe(runners_list):\n",
    "    return pd.DataFrame(runners_list)"
   ]
  },
  {
   "cell_type": "markdown",
   "id": "cdaf5370-3ae6-4d26-b06a-8e3bee471de1",
   "metadata": {},
   "source": [
    "## Get Runner \"name\" and \"id\""
   ]
  },
  {
   "cell_type": "code",
   "execution_count": null,
   "id": "eccb4909-c26a-4092-950e-597c5be9a1f0",
   "metadata": {},
   "outputs": [],
   "source": [
    "def get_runner_name_id(start, end):\n",
    "    print(f'\\u001b[42;1m START \\u001b[0m')\n",
    "    timer_start = time.time()\n",
    "    runners = []\n",
    "    \n",
    "    for i in range(start, end + 1):\n",
    "        runner = {}\n",
    "        \n",
    "        try:         \n",
    "            driver = webdriver.Chrome(service=Service(ChromeDriverManager().install()))\n",
    "            url = f'https://vr.thai.run/lartstu.run/{str(i)}'\n",
    "            driver.get(url)\n",
    "            \n",
    "            name = WebDriverWait(driver, 3).until(\n",
    "            EC.presence_of_element_located((By.CLASS_NAME, 'font-bib-user'))\n",
    "            )\n",
    "            runner_id = WebDriverWait(driver, 3).until(\n",
    "            EC.presence_of_element_located((By.XPATH, '//*[@id=\"root\"]/div[1]/div[2]/div/div[1]/div/h3'))\n",
    "            )\n",
    "            distance = WebDriverWait(driver, 3).until(\n",
    "            EC.presence_of_element_located((By.XPATH, '//*[@id=\"root\"]/div[1]/div[2]/div/div[2]/div[2]/div/div[1]/h4'))\n",
    "            )\n",
    "            total_distance = WebDriverWait(driver, 3).until(\n",
    "            EC.presence_of_element_located((By.XPATH, '//*[@id=\"root\"]/div[1]/div[2]/div/div[2]/div[2]/div/div[1]/p'))\n",
    "            )\n",
    "                          \n",
    "            runner['id'] = runner_id.text\n",
    "            runner['name'] = name.text\n",
    "                \n",
    "            runners.append(runner)\n",
    "            \n",
    "            if i % 10 == 0:\n",
    "                print(f'\\u001b[43;1m{runner_id.text} {name.text}\\u001b[0m \\nProgress\\n{distance.text} {total_distance.text}')\n",
    "                print('-' * 50)\n",
    "        \n",
    "        except TimeoutException as e:\n",
    "            print('\\u001b[41mUser not found\\u001b[0m\\n' + '-' * 50)\n",
    "            print(e)\n",
    "            break\n",
    "            \n",
    "        finally:\n",
    "             driver.quit()\n",
    "                \n",
    "    timer_end = time.time()\n",
    "    print(f'\\u001b[42;1m END WITH RUNTIME OF {timer_end - timer_start} seconds \\u001b[0m')\n",
    "    \n",
    "    return runners"
   ]
  },
  {
   "cell_type": "code",
   "execution_count": null,
   "id": "f97b19eb-e824-461b-a96f-903d9afba23d",
   "metadata": {},
   "outputs": [],
   "source": [
    "runners_name_id = get_runner_name_id(1, 310)"
   ]
  },
  {
   "cell_type": "code",
   "execution_count": null,
   "id": "1e5cf2e1-1326-491f-8e5a-d02ae3bc4b6e",
   "metadata": {},
   "outputs": [],
   "source": [
    "eval(f'runners_name_id_batch_0{str(i)}')"
   ]
  },
  {
   "cell_type": "markdown",
   "id": "b16addae-64e2-4994-a0d1-2f6f6efd2150",
   "metadata": {},
   "source": [
    "## Convert Python Dictionary to DataFrame"
   ]
  },
  {
   "cell_type": "code",
   "execution_count": 2,
   "id": "4d2f3fea-d8f7-446d-ae85-f23f435e7baa",
   "metadata": {},
   "outputs": [],
   "source": [
    "def batch_dict_to_df(start, end, dict_name):\n",
    "    \"\"\"\n",
    "    Convert Python Dictionary to DataFrame\n",
    "    start = index of the first batch of dict (int)\n",
    "    end = index of the last batch of dict (int)\n",
    "    dict_name = variable name for each batch until index (str)\n",
    "    return dataframe\n",
    "    \"\"\"\n",
    "    \n",
    "    df = pd.DataFrame(eval(f'{dict_name}{str(start)}'))\n",
    "    \n",
    "    for i in range(start + 1, end + 1):\n",
    "        temp = eval(f'{dict_name}{str(i)}')\n",
    "        df_temp = pd.DataFrame(temp)\n",
    "        df = pd.concat([df, df_temp])\n",
    "    \n",
    "    return df"
   ]
  },
  {
   "cell_type": "code",
   "execution_count": null,
   "id": "9bacfb16-5e3f-4003-980c-8196b9106dd7",
   "metadata": {},
   "outputs": [],
   "source": [
    "runners_name_id_all = runners_name_id.copy()\n",
    "df_name_id = pd.DataFrame(runners_name_id_all)\n",
    "for i in range(2, 6):\n",
    "    temp = eval(f'runners_name_id_batch_0{str(i)}')\n",
    "    df_temp = pd.DataFrame(temp)\n",
    "    df_name_id = pd.concat([df_name_id, df_temp])"
   ]
  },
  {
   "cell_type": "code",
   "execution_count": null,
   "id": "05773905-1cb6-44e2-b7a3-192522a1b66b",
   "metadata": {},
   "outputs": [],
   "source": [
    "df_name_id[df_name_id['id'] > str(100)]"
   ]
  },
  {
   "cell_type": "markdown",
   "id": "07dbd7c5-44f7-42a0-9e7d-e7d93763b0f9",
   "metadata": {},
   "source": [
    "## Fetch Runners"
   ]
  },
  {
   "cell_type": "code",
   "execution_count": 3,
   "id": "fe31d7a9-946f-4262-96ef-f728970a6298",
   "metadata": {},
   "outputs": [],
   "source": [
    "def get_runner_name(start, end):\n",
    "    print(f'\\u001b[42;1m START \\u001b[0m')\n",
    "    timer_start = time.time()\n",
    "    runners = []\n",
    "    \n",
    "    for i in range(start, end + 1):\n",
    "        runner = {}\n",
    "        \n",
    "        try:\n",
    "            # path = 'C:\\Program Files (x86)\\chromedriver.exe'\n",
    "            # driver = webdriver.chrome(path)\n",
    "            \n",
    "            driver = webdriver.Chrome(service=Service(ChromeDriverManager().install()))\n",
    "            url = f'https://vr.thai.run/lartstu.run/{str(i)}'\n",
    "            driver.get(url)\n",
    "            \n",
    "            name = WebDriverWait(driver, 3).until(\n",
    "            EC.presence_of_element_located((By.CLASS_NAME, 'font-bib-user'))\n",
    "            )\n",
    "            runner_id = WebDriverWait(driver, 3).until(\n",
    "            EC.presence_of_element_located((By.XPATH, '//*[@id=\"root\"]/div[1]/div[2]/div/div[1]/div/h3'))\n",
    "            )\n",
    "            try:\n",
    "                # distance for person with progress\n",
    "                distance = WebDriverWait(driver, 3).until(\n",
    "                EC.presence_of_element_located((By.XPATH, '//*[@id=\"root\"]/div[1]/div[2]/div/div[2]/div[2]/div[2]/h4'))\n",
    "                )\n",
    "            except TimeoutException as e:\n",
    "                # distance for person without progress, contains different XPATH\n",
    "                distance = WebDriverWait(driver, 3).until(\n",
    "                EC.presence_of_element_located((By.XPATH, '//*[@id=\"root\"]/div[1]/div[2]/div/div[2]/div[2]/div/div[1]/h4'))\n",
    "                )\n",
    "                                     \n",
    "        except TimeoutException as e:\n",
    "            print('\\u001b[41mUser not found\\u001b[0m\\n' + '-' * 50)\n",
    "            print(e)\n",
    "            break\n",
    "            \n",
    "        finally:\n",
    "            runner['id'] = runner_id.text\n",
    "            runner['name'] = name.text\n",
    "            runner['date'] = str(datetime.date.today())\n",
    "            runner['distance_km'] = float(distance.text.split()[0])\n",
    "                \n",
    "            runners.append(runner)\n",
    "            \n",
    "            if i % 10 == 0:\n",
    "                print(f'\\u001b[43;1m{runner_id.text} {name.text}\\u001b[0m \\nProgress\\n{distance.text}')\n",
    "                print('-' * 50)\n",
    "            \n",
    "            driver.quit()\n",
    "                \n",
    "    timer_end = time.time()\n",
    "    print(f'\\u001b[42;1m END WITH RUNTIME OF {timer_end - timer_start} seconds \\u001b[0m')\n",
    "    \n",
    "    return runners"
   ]
  },
  {
   "cell_type": "code",
   "execution_count": 4,
   "id": "809398e7-aa04-4272-b0be-b6c575f65aff",
   "metadata": {},
   "outputs": [
    {
     "name": "stdout",
     "output_type": "stream",
     "text": [
      "\u001b[42;1m START \u001b[0m\n",
      "\u001b[43;1m10 Nittaya Chongviriyaphan\u001b[0m \n",
      "Progress\n",
      "88.88 km\n",
      "--------------------------------------------------\n",
      "\u001b[43;1m20 สุจิตรา อุชชิน\u001b[0m \n",
      "Progress\n",
      "0.00 km\n",
      "--------------------------------------------------\n",
      "\u001b[43;1m30 นฤทัยภรณ์ มูลตรีสังข์\u001b[0m \n",
      "Progress\n",
      "12.63 km\n",
      "--------------------------------------------------\n",
      "\u001b[43;1m40 Krittika Lertsawat\u001b[0m \n",
      "Progress\n",
      "20.90 km\n",
      "--------------------------------------------------\n",
      "\u001b[43;1m50 จิรนันท์ ขำจิ๋ว\u001b[0m \n",
      "Progress\n",
      "14.50 km\n",
      "--------------------------------------------------\n",
      "\u001b[42;1m END WITH RUNTIME OF 462.857045173645 seconds \u001b[0m\n"
     ]
    }
   ],
   "source": [
    "runners_batch_01 = get_runner_name(1, 50)"
   ]
  },
  {
   "cell_type": "code",
   "execution_count": null,
   "id": "2b6bb251-e10e-4880-9098-8cf23ed3a8e4",
   "metadata": {},
   "outputs": [],
   "source": [
    "runners_batch_01"
   ]
  },
  {
   "cell_type": "code",
   "execution_count": 5,
   "id": "e1bf2b98-7a81-46da-af13-9de94bf15aff",
   "metadata": {},
   "outputs": [
    {
     "name": "stdout",
     "output_type": "stream",
     "text": [
      "\u001b[42;1m START \u001b[0m\n",
      "\u001b[43;1m60 Sandy Yumuang\u001b[0m \n",
      "Progress\n",
      "32.20 km\n",
      "--------------------------------------------------\n",
      "\u001b[43;1m70 นลิน ดำรงค์กิจการ\u001b[0m \n",
      "Progress\n",
      "0.00 km\n",
      "--------------------------------------------------\n",
      "\u001b[43;1m80 อัมพร คุณวิทยาไพศาล\u001b[0m \n",
      "Progress\n",
      "37.50 km\n",
      "--------------------------------------------------\n",
      "\u001b[43;1m90 Anusorn Chakpradu\u001b[0m \n",
      "Progress\n",
      "60.38 km\n",
      "--------------------------------------------------\n",
      "\u001b[43;1m100 Prasert Ratanavoradilok\u001b[0m \n",
      "Progress\n",
      "16.00 km\n",
      "--------------------------------------------------\n",
      "\u001b[42;1m END WITH RUNTIME OF 460.65202164649963 seconds \u001b[0m\n"
     ]
    }
   ],
   "source": [
    "runners_batch_02 = get_runner_name(51, 100)"
   ]
  },
  {
   "cell_type": "code",
   "execution_count": null,
   "id": "3b8eaec6-b134-4c7c-9732-922cdcf179c8",
   "metadata": {},
   "outputs": [],
   "source": [
    "runners_batch_02"
   ]
  },
  {
   "cell_type": "code",
   "execution_count": 6,
   "id": "29513d67-1881-4f0f-886b-2f8bafebf68b",
   "metadata": {},
   "outputs": [
    {
     "name": "stdout",
     "output_type": "stream",
     "text": [
      "\u001b[42;1m START \u001b[0m\n",
      "\u001b[43;1m110 Chalida Tanarongtanyakorn\u001b[0m \n",
      "Progress\n",
      "0.00 km\n",
      "--------------------------------------------------\n",
      "\u001b[43;1m120 Patiparn Ponsan\u001b[0m \n",
      "Progress\n",
      "0.00 km\n",
      "--------------------------------------------------\n",
      "\u001b[43;1m130 นายสุรัตน์ เมฆะวรากุล\u001b[0m \n",
      "Progress\n",
      "27.42 km\n",
      "--------------------------------------------------\n",
      "\u001b[43;1m140 กิตติพศ วีรอนันตมิตร\u001b[0m \n",
      "Progress\n",
      "5.29 km\n",
      "--------------------------------------------------\n",
      "\u001b[43;1m150 ประวิทย์ ชนม์ธนวัฒน์\u001b[0m \n",
      "Progress\n",
      "172.41 km\n",
      "--------------------------------------------------\n",
      "\u001b[42;1m END WITH RUNTIME OF 499.41445899009705 seconds \u001b[0m\n"
     ]
    }
   ],
   "source": [
    "runners_batch_03 = get_runner_name(101, 150)"
   ]
  },
  {
   "cell_type": "code",
   "execution_count": null,
   "id": "7968d5c8-89f6-43e5-a8ba-c0e8a2c8a894",
   "metadata": {},
   "outputs": [],
   "source": [
    "runners_batch_03"
   ]
  },
  {
   "cell_type": "code",
   "execution_count": 8,
   "id": "1cdb6dfe-4d08-4299-b647-3c079a79dfea",
   "metadata": {},
   "outputs": [
    {
     "name": "stdout",
     "output_type": "stream",
     "text": [
      "\u001b[42;1m START \u001b[0m\n",
      "\u001b[43;1m160 นางสุกัญญา จรรยงค์วรกุล\u001b[0m \n",
      "Progress\n",
      "17.20 km\n",
      "--------------------------------------------------\n",
      "\u001b[43;1m170 บุศยวรรณ ศานติวรางคณา\u001b[0m \n",
      "Progress\n",
      "0.00 km\n",
      "--------------------------------------------------\n",
      "\u001b[43;1m180 ราชันย์ ปัญญาเก่ง\u001b[0m \n",
      "Progress\n",
      "0.00 km\n",
      "--------------------------------------------------\n",
      "\u001b[43;1m190 อ.ดร. วันชนะ ทองคำเภา\u001b[0m \n",
      "Progress\n",
      "0.00 km\n",
      "--------------------------------------------------\n",
      "\u001b[43;1m200 Rinrada Raweelert\u001b[0m \n",
      "Progress\n",
      "9.38 km\n",
      "--------------------------------------------------\n",
      "\u001b[42;1m END WITH RUNTIME OF 475.15959644317627 seconds \u001b[0m\n"
     ]
    }
   ],
   "source": [
    "runners_batch_04 = get_runner_name(151, 200)"
   ]
  },
  {
   "cell_type": "code",
   "execution_count": null,
   "id": "2eb7c77e-166c-4ce0-926f-1ab4afd9fac6",
   "metadata": {},
   "outputs": [],
   "source": [
    "runners_batch_04"
   ]
  },
  {
   "cell_type": "code",
   "execution_count": 9,
   "id": "4603709a-7583-4368-9115-a431857d34ed",
   "metadata": {},
   "outputs": [
    {
     "name": "stdout",
     "output_type": "stream",
     "text": [
      "\u001b[42;1m START \u001b[0m\n",
      "\u001b[43;1m210 Tanida Kongjinda\u001b[0m \n",
      "Progress\n",
      "10.00 km\n",
      "--------------------------------------------------\n",
      "\u001b[43;1m220 มนกานต์ ทิพย์ทวีชาญ\u001b[0m \n",
      "Progress\n",
      "3.02 km\n",
      "--------------------------------------------------\n",
      "\u001b[43;1m230 ปานหทัย ศรีสมุทร\u001b[0m \n",
      "Progress\n",
      "31.30 km\n",
      "--------------------------------------------------\n",
      "\u001b[43;1m240 ยอดยิ่ง โสภณ\u001b[0m \n",
      "Progress\n",
      "0.00 km\n",
      "--------------------------------------------------\n",
      "\u001b[43;1m250 TANAPON TAYATI\u001b[0m \n",
      "Progress\n",
      "0.00 km\n",
      "--------------------------------------------------\n",
      "\u001b[42;1m END WITH RUNTIME OF 477.8932876586914 seconds \u001b[0m\n"
     ]
    }
   ],
   "source": [
    "runners_batch_05 = get_runner_name(201, 250)"
   ]
  },
  {
   "cell_type": "code",
   "execution_count": null,
   "id": "4b1c7278-dc60-4d89-bec2-d54b989d384b",
   "metadata": {},
   "outputs": [],
   "source": [
    "runners_batch_05"
   ]
  },
  {
   "cell_type": "code",
   "execution_count": 10,
   "id": "96eb0579-e305-433a-b76b-dfa0f06bc814",
   "metadata": {
    "tags": []
   },
   "outputs": [
    {
     "name": "stdout",
     "output_type": "stream",
     "text": [
      "\u001b[42;1m START \u001b[0m\n",
      "\u001b[43;1m260 กรรณิการ์ มีศักดิ์\u001b[0m \n",
      "Progress\n",
      "0.00 km\n",
      "--------------------------------------------------\n",
      "\u001b[43;1m270 โกลัญญา นนทลีอินภา\u001b[0m \n",
      "Progress\n",
      "0.00 km\n",
      "--------------------------------------------------\n",
      "\u001b[43;1m280 ชาญ วัธนเวคิน\u001b[0m \n",
      "Progress\n",
      "0.00 km\n",
      "--------------------------------------------------\n",
      "\u001b[43;1m290 สิริกร อิ่มจงใจรักษ์\u001b[0m \n",
      "Progress\n",
      "0.00 km\n",
      "--------------------------------------------------\n",
      "\u001b[43;1m300 Shinghapan Tungchanadachasap\u001b[0m \n",
      "Progress\n",
      "0.00 km\n",
      "--------------------------------------------------\n",
      "\u001b[42;1m END WITH RUNTIME OF 511.4659125804901 seconds \u001b[0m\n"
     ]
    }
   ],
   "source": [
    "runners_batch_06 = get_runner_name(251, 300)"
   ]
  },
  {
   "cell_type": "code",
   "execution_count": null,
   "id": "c56db35d-44f9-4578-8621-f0362a0bbbe1",
   "metadata": {},
   "outputs": [],
   "source": [
    "runners_batch_06"
   ]
  },
  {
   "cell_type": "code",
   "execution_count": 11,
   "id": "2e00f765-fe57-4a2b-981c-fec640525680",
   "metadata": {
    "tags": []
   },
   "outputs": [
    {
     "name": "stdout",
     "output_type": "stream",
     "text": [
      "\u001b[42;1m START \u001b[0m\n",
      "\u001b[43;1m310 พัชราลักษณ์ กาทำมา\u001b[0m \n",
      "Progress\n",
      "0.00 km\n",
      "--------------------------------------------------\n",
      "\u001b[43;1m320 อารีวรรณ จรัสจรรยาวงศ์\u001b[0m \n",
      "Progress\n",
      "34.37 km\n",
      "--------------------------------------------------\n",
      "\u001b[43;1m330 สถิตย์ ไม้งิ้ว\u001b[0m \n",
      "Progress\n",
      "0.00 km\n",
      "--------------------------------------------------\n",
      "\u001b[43;1m340 นิจนารา เดือนแจ่ม\u001b[0m \n",
      "Progress\n",
      "0.00 km\n",
      "--------------------------------------------------\n",
      "\u001b[43;1m350 สุกัญญา คุณกิตติ\u001b[0m \n",
      "Progress\n",
      "29.29 km\n",
      "--------------------------------------------------\n",
      "\u001b[42;1m END WITH RUNTIME OF 506.8999171257019 seconds \u001b[0m\n"
     ]
    }
   ],
   "source": [
    "runners_batch_07 = get_runner_name(301, 350)"
   ]
  },
  {
   "cell_type": "code",
   "execution_count": null,
   "id": "f50f5076-547c-41a9-8edd-42be2678f517",
   "metadata": {},
   "outputs": [],
   "source": [
    "runners_batch_07"
   ]
  },
  {
   "cell_type": "code",
   "execution_count": 13,
   "id": "54bd7ef6-1adb-4048-ac97-9daf7c3b01c2",
   "metadata": {},
   "outputs": [
    {
     "name": "stdout",
     "output_type": "stream",
     "text": [
      "\u001b[42;1m START \u001b[0m\n",
      "\u001b[43;1m360 บุญเรือน เกิดแย้ม\u001b[0m \n",
      "Progress\n",
      "0.00 km\n",
      "--------------------------------------------------\n",
      "\u001b[43;1m370 ปัจมาพร เรืองเวช\u001b[0m \n",
      "Progress\n",
      "0.00 km\n",
      "--------------------------------------------------\n",
      "\u001b[43;1m380 ณัชชา ศรีเสาวคนธร\u001b[0m \n",
      "Progress\n",
      "0.00 km\n",
      "--------------------------------------------------\n",
      "\u001b[43;1m390 นภัสชา บุญช่วย\u001b[0m \n",
      "Progress\n",
      "0.00 km\n",
      "--------------------------------------------------\n",
      "\u001b[43;1m400 ศิลปพัฒน์ โพธิบัวทอง\u001b[0m \n",
      "Progress\n",
      "0.00 km\n",
      "--------------------------------------------------\n",
      "\u001b[42;1m END WITH RUNTIME OF 505.67412638664246 seconds \u001b[0m\n"
     ]
    }
   ],
   "source": [
    "runners_batch_08 = get_runner_name(351, 400)"
   ]
  },
  {
   "cell_type": "code",
   "execution_count": null,
   "id": "b7bdec22-4db1-4342-8a46-222152c4f4d1",
   "metadata": {},
   "outputs": [],
   "source": [
    "runners_batch_08"
   ]
  },
  {
   "cell_type": "code",
   "execution_count": 14,
   "id": "7884f41c-9b9c-4c64-affc-4be6cd91f94b",
   "metadata": {},
   "outputs": [
    {
     "name": "stdout",
     "output_type": "stream",
     "text": [
      "\u001b[42;1m START \u001b[0m\n"
     ]
    },
    {
     "name": "stderr",
     "output_type": "stream",
     "text": [
      "[WDM] - Downloading: 100%|████████████████████████████████████████████████████████| 6.21M/6.21M [00:00<00:00, 10.0MB/s]\n"
     ]
    },
    {
     "name": "stdout",
     "output_type": "stream",
     "text": [
      "\u001b[43;1m410 วราภรณ์ อินสตุล\u001b[0m \n",
      "Progress\n",
      "0.00 km\n",
      "--------------------------------------------------\n",
      "\u001b[43;1m420 Sadudee Phuhongsai\u001b[0m \n",
      "Progress\n",
      "3.30 km\n",
      "--------------------------------------------------\n",
      "\u001b[42;1m END WITH RUNTIME OF 214.63258028030396 seconds \u001b[0m\n"
     ]
    }
   ],
   "source": [
    "runners_batch_09 = get_runner_name(401, 422)"
   ]
  },
  {
   "cell_type": "code",
   "execution_count": null,
   "id": "d1152e1b-990e-4882-8ca8-c920e95ce548",
   "metadata": {},
   "outputs": [],
   "source": [
    "runners_batch_09"
   ]
  },
  {
   "cell_type": "code",
   "execution_count": 15,
   "id": "c1563354-a4ac-4571-97cc-fc2029c53322",
   "metadata": {
    "tags": []
   },
   "outputs": [],
   "source": [
    "df_runners = batch_dict_to_df(1,9,'runners_batch_0')"
   ]
  },
  {
   "cell_type": "code",
   "execution_count": 16,
   "id": "2332449e-21b7-4a7c-a7a8-7447fc82c11a",
   "metadata": {},
   "outputs": [
    {
     "data": {
      "text/html": [
       "<div>\n",
       "<style scoped>\n",
       "    .dataframe tbody tr th:only-of-type {\n",
       "        vertical-align: middle;\n",
       "    }\n",
       "\n",
       "    .dataframe tbody tr th {\n",
       "        vertical-align: top;\n",
       "    }\n",
       "\n",
       "    .dataframe thead th {\n",
       "        text-align: right;\n",
       "    }\n",
       "</style>\n",
       "<table border=\"1\" class=\"dataframe\">\n",
       "  <thead>\n",
       "    <tr style=\"text-align: right;\">\n",
       "      <th></th>\n",
       "      <th>id</th>\n",
       "      <th>name</th>\n",
       "      <th>date</th>\n",
       "      <th>distance_km</th>\n",
       "    </tr>\n",
       "  </thead>\n",
       "  <tbody>\n",
       "    <tr>\n",
       "      <th>0</th>\n",
       "      <td>1</td>\n",
       "      <td>MONCHAI SUYANANG</td>\n",
       "      <td>2022-08-31</td>\n",
       "      <td>30.00</td>\n",
       "    </tr>\n",
       "    <tr>\n",
       "      <th>1</th>\n",
       "      <td>2</td>\n",
       "      <td>Pantira Silprasert</td>\n",
       "      <td>2022-08-31</td>\n",
       "      <td>0.00</td>\n",
       "    </tr>\n",
       "    <tr>\n",
       "      <th>2</th>\n",
       "      <td>3</td>\n",
       "      <td>Saowaluk Panthumaroj</td>\n",
       "      <td>2022-08-31</td>\n",
       "      <td>0.00</td>\n",
       "    </tr>\n",
       "    <tr>\n",
       "      <th>3</th>\n",
       "      <td>4</td>\n",
       "      <td>Supachai Nawarattanakorn</td>\n",
       "      <td>2022-08-31</td>\n",
       "      <td>18.60</td>\n",
       "    </tr>\n",
       "    <tr>\n",
       "      <th>4</th>\n",
       "      <td>5</td>\n",
       "      <td>Pisith Wongthianthana</td>\n",
       "      <td>2022-08-31</td>\n",
       "      <td>3.52</td>\n",
       "    </tr>\n",
       "    <tr>\n",
       "      <th>...</th>\n",
       "      <td>...</td>\n",
       "      <td>...</td>\n",
       "      <td>...</td>\n",
       "      <td>...</td>\n",
       "    </tr>\n",
       "    <tr>\n",
       "      <th>17</th>\n",
       "      <td>418</td>\n",
       "      <td>เฉลิมขวัญ อ้นทอง</td>\n",
       "      <td>2022-09-01</td>\n",
       "      <td>6.73</td>\n",
       "    </tr>\n",
       "    <tr>\n",
       "      <th>18</th>\n",
       "      <td>419</td>\n",
       "      <td>ศราวุธ มี้เจริญ</td>\n",
       "      <td>2022-09-01</td>\n",
       "      <td>93.59</td>\n",
       "    </tr>\n",
       "    <tr>\n",
       "      <th>19</th>\n",
       "      <td>420</td>\n",
       "      <td>Sadudee Phuhongsai</td>\n",
       "      <td>2022-09-01</td>\n",
       "      <td>3.30</td>\n",
       "    </tr>\n",
       "    <tr>\n",
       "      <th>20</th>\n",
       "      <td>421</td>\n",
       "      <td>อรรถสิทธิ์ เผือกไชย</td>\n",
       "      <td>2022-09-01</td>\n",
       "      <td>10.00</td>\n",
       "    </tr>\n",
       "    <tr>\n",
       "      <th>21</th>\n",
       "      <td>422</td>\n",
       "      <td>พรพิบูล รักธรรม</td>\n",
       "      <td>2022-09-01</td>\n",
       "      <td>16.00</td>\n",
       "    </tr>\n",
       "  </tbody>\n",
       "</table>\n",
       "<p>422 rows × 4 columns</p>\n",
       "</div>"
      ],
      "text/plain": [
       "     id                      name        date  distance_km\n",
       "0     1          MONCHAI SUYANANG  2022-08-31        30.00\n",
       "1     2        Pantira Silprasert  2022-08-31         0.00\n",
       "2     3      Saowaluk Panthumaroj  2022-08-31         0.00\n",
       "3     4  Supachai Nawarattanakorn  2022-08-31        18.60\n",
       "4     5     Pisith Wongthianthana  2022-08-31         3.52\n",
       "..  ...                       ...         ...          ...\n",
       "17  418          เฉลิมขวัญ อ้นทอง  2022-09-01         6.73\n",
       "18  419           ศราวุธ มี้เจริญ  2022-09-01        93.59\n",
       "19  420        Sadudee Phuhongsai  2022-09-01         3.30\n",
       "20  421       อรรถสิทธิ์ เผือกไชย  2022-09-01        10.00\n",
       "21  422           พรพิบูล รักธรรม  2022-09-01        16.00\n",
       "\n",
       "[422 rows x 4 columns]"
      ]
     },
     "execution_count": 16,
     "metadata": {},
     "output_type": "execute_result"
    }
   ],
   "source": [
    "df_runners"
   ]
  },
  {
   "cell_type": "markdown",
   "id": "459c3fb7-1305-46f1-8722-4ba50a8c4740",
   "metadata": {},
   "source": [
    "### Edit 'date' column"
   ]
  },
  {
   "cell_type": "code",
   "execution_count": 17,
   "id": "0510b374-2d74-41d6-994d-b4cb92181a36",
   "metadata": {},
   "outputs": [],
   "source": [
    "def edit_date(df, time_delta):\n",
    "    # df_edited = df.copy()\n",
    "    df['date'] = str(datetime.date.today() + datetime.timedelta(days = time_delta))\n",
    "    \n",
    "    return df"
   ]
  },
  {
   "cell_type": "code",
   "execution_count": 18,
   "id": "a8b11164-0933-4546-afe3-8abbfdad3ef0",
   "metadata": {},
   "outputs": [
    {
     "data": {
      "text/html": [
       "<div>\n",
       "<style scoped>\n",
       "    .dataframe tbody tr th:only-of-type {\n",
       "        vertical-align: middle;\n",
       "    }\n",
       "\n",
       "    .dataframe tbody tr th {\n",
       "        vertical-align: top;\n",
       "    }\n",
       "\n",
       "    .dataframe thead th {\n",
       "        text-align: right;\n",
       "    }\n",
       "</style>\n",
       "<table border=\"1\" class=\"dataframe\">\n",
       "  <thead>\n",
       "    <tr style=\"text-align: right;\">\n",
       "      <th></th>\n",
       "      <th>id</th>\n",
       "      <th>name</th>\n",
       "      <th>date</th>\n",
       "      <th>distance_km</th>\n",
       "    </tr>\n",
       "  </thead>\n",
       "  <tbody>\n",
       "    <tr>\n",
       "      <th>0</th>\n",
       "      <td>1</td>\n",
       "      <td>MONCHAI SUYANANG</td>\n",
       "      <td>2022-08-31</td>\n",
       "      <td>30.00</td>\n",
       "    </tr>\n",
       "    <tr>\n",
       "      <th>1</th>\n",
       "      <td>2</td>\n",
       "      <td>Pantira Silprasert</td>\n",
       "      <td>2022-08-31</td>\n",
       "      <td>0.00</td>\n",
       "    </tr>\n",
       "    <tr>\n",
       "      <th>2</th>\n",
       "      <td>3</td>\n",
       "      <td>Saowaluk Panthumaroj</td>\n",
       "      <td>2022-08-31</td>\n",
       "      <td>0.00</td>\n",
       "    </tr>\n",
       "    <tr>\n",
       "      <th>3</th>\n",
       "      <td>4</td>\n",
       "      <td>Supachai Nawarattanakorn</td>\n",
       "      <td>2022-08-31</td>\n",
       "      <td>18.60</td>\n",
       "    </tr>\n",
       "    <tr>\n",
       "      <th>4</th>\n",
       "      <td>5</td>\n",
       "      <td>Pisith Wongthianthana</td>\n",
       "      <td>2022-08-31</td>\n",
       "      <td>3.52</td>\n",
       "    </tr>\n",
       "    <tr>\n",
       "      <th>...</th>\n",
       "      <td>...</td>\n",
       "      <td>...</td>\n",
       "      <td>...</td>\n",
       "      <td>...</td>\n",
       "    </tr>\n",
       "    <tr>\n",
       "      <th>17</th>\n",
       "      <td>418</td>\n",
       "      <td>เฉลิมขวัญ อ้นทอง</td>\n",
       "      <td>2022-08-31</td>\n",
       "      <td>6.73</td>\n",
       "    </tr>\n",
       "    <tr>\n",
       "      <th>18</th>\n",
       "      <td>419</td>\n",
       "      <td>ศราวุธ มี้เจริญ</td>\n",
       "      <td>2022-08-31</td>\n",
       "      <td>93.59</td>\n",
       "    </tr>\n",
       "    <tr>\n",
       "      <th>19</th>\n",
       "      <td>420</td>\n",
       "      <td>Sadudee Phuhongsai</td>\n",
       "      <td>2022-08-31</td>\n",
       "      <td>3.30</td>\n",
       "    </tr>\n",
       "    <tr>\n",
       "      <th>20</th>\n",
       "      <td>421</td>\n",
       "      <td>อรรถสิทธิ์ เผือกไชย</td>\n",
       "      <td>2022-08-31</td>\n",
       "      <td>10.00</td>\n",
       "    </tr>\n",
       "    <tr>\n",
       "      <th>21</th>\n",
       "      <td>422</td>\n",
       "      <td>พรพิบูล รักธรรม</td>\n",
       "      <td>2022-08-31</td>\n",
       "      <td>16.00</td>\n",
       "    </tr>\n",
       "  </tbody>\n",
       "</table>\n",
       "<p>422 rows × 4 columns</p>\n",
       "</div>"
      ],
      "text/plain": [
       "     id                      name        date  distance_km\n",
       "0     1          MONCHAI SUYANANG  2022-08-31        30.00\n",
       "1     2        Pantira Silprasert  2022-08-31         0.00\n",
       "2     3      Saowaluk Panthumaroj  2022-08-31         0.00\n",
       "3     4  Supachai Nawarattanakorn  2022-08-31        18.60\n",
       "4     5     Pisith Wongthianthana  2022-08-31         3.52\n",
       "..  ...                       ...         ...          ...\n",
       "17  418          เฉลิมขวัญ อ้นทอง  2022-08-31         6.73\n",
       "18  419           ศราวุธ มี้เจริญ  2022-08-31        93.59\n",
       "19  420        Sadudee Phuhongsai  2022-08-31         3.30\n",
       "20  421       อรรถสิทธิ์ เผือกไชย  2022-08-31        10.00\n",
       "21  422           พรพิบูล รักธรรม  2022-08-31        16.00\n",
       "\n",
       "[422 rows x 4 columns]"
      ]
     },
     "execution_count": 18,
     "metadata": {},
     "output_type": "execute_result"
    }
   ],
   "source": [
    "df_runners_edited = df_runners.copy()\n",
    "edit_date(df_runners_edited, -1)\n",
    "df_runners_edited"
   ]
  },
  {
   "cell_type": "code",
   "execution_count": null,
   "id": "ab6849bc-685e-4034-9173-4656eb92eb3a",
   "metadata": {},
   "outputs": [],
   "source": [
    "# df_runners_edited = df_runners.copy()\n",
    "# df_runners_edited['date'] = str(datetime.date.today() + datetime.timedelta(days = -1))\n",
    "# df_runners_edited"
   ]
  },
  {
   "cell_type": "code",
   "execution_count": null,
   "id": "5788cf6a-ae4b-499e-8e04-a1deeeb1cdc9",
   "metadata": {},
   "outputs": [],
   "source": [
    "np.arange(0, 350, 10)"
   ]
  },
  {
   "cell_type": "code",
   "execution_count": null,
   "id": "e681bfb3-e225-4447-a50c-87b417166b28",
   "metadata": {},
   "outputs": [],
   "source": [
    "WebDriverWait.until?"
   ]
  },
  {
   "cell_type": "code",
   "execution_count": null,
   "id": "4eee5d00-16d1-4923-972e-0b02880be59e",
   "metadata": {},
   "outputs": [],
   "source": [
    "def dry_run_runners(index_array):\n",
    "    print(f'\\u001b[42;1m START \\u001b[0m')\n",
    "    timer_start = time.time()\n",
    "    \n",
    "    if index_array[0] == 0:\n",
    "        index_array[0] = 1\n",
    "    \n",
    "    for i in index_array:     \n",
    "        try:\n",
    "            # path = 'C:\\Program Files (x86)\\chromedriver.exe'\n",
    "            # driver = webdriver.chrome(path)\n",
    "            \n",
    "            driver = webdriver.Chrome(service=Service(ChromeDriverManager().install()))\n",
    "            url = f'https://vr.thai.run/lartstu.run/{str(i)}'\n",
    "            driver.get(url)\n",
    "            \n",
    "            name = WebDriverWait(driver, 3).until(\n",
    "            EC.presence_of_element_located((By.CLASS_NAME, 'font-bib-user'))\n",
    "            )\n",
    "            runner_id = WebDriverWait(driver, 3).until(\n",
    "            EC.presence_of_element_located((By.XPATH, '//*[@id=\"root\"]/div[1]/div[2]/div/div[1]/div/h3'))\n",
    "            )\n",
    "            try:\n",
    "                # distance for person with progress\n",
    "                distance = WebDriverWait(driver, 3).until(\n",
    "                EC.presence_of_element_located((By.XPATH, '//*[@id=\"root\"]/div[1]/div[2]/div/div[2]/div[2]/div[2]/h4'))\n",
    "                )\n",
    "            except TimeoutException as e:\n",
    "                # distance for person without progress, contains different XPATH\n",
    "                distance = WebDriverWait(driver, 3).until(\n",
    "                EC.presence_of_element_located((By.XPATH, '//*[@id=\"root\"]/div[1]/div[2]/div/div[2]/div[2]/div/div[1]/h4'))\n",
    "                )\n",
    "                                     \n",
    "        except TimeoutException as e:\n",
    "            print('\\u001b[41mUser not found\\u001b[0m\\n' + '-' * 50)\n",
    "            print(e)\n",
    "            break\n",
    "            \n",
    "        finally:\n",
    "                print(f'\\u001b[43;1m{runner_id.text} {name.text}\\u001b[0m \\nProgress\\n{distance.text}')\n",
    "                print('-' * 50)\n",
    "                driver.quit()\n",
    "                \n",
    "    timer_end = time.time()\n",
    "    print(f'\\u001b[42;1m END WITH RUNTIME OF {timer_end - timer_start} seconds \\u001b[0m')\n"
   ]
  },
  {
   "cell_type": "code",
   "execution_count": null,
   "id": "c420752f-5221-4968-a6d0-1abd74a79533",
   "metadata": {},
   "outputs": [],
   "source": [
    "range_index = np.arange(375, 383, 11)\n",
    "dry_run_runners(range_index)"
   ]
  },
  {
   "cell_type": "code",
   "execution_count": null,
   "id": "a7b7e004-bb2f-4bf9-ae7b-0384e16b291b",
   "metadata": {},
   "outputs": [],
   "source": [
    "runners = get_runner_name(77, 82)"
   ]
  },
  {
   "cell_type": "code",
   "execution_count": null,
   "id": "e57b4333-3044-4bd5-8e78-c9a5da90d1c3",
   "metadata": {},
   "outputs": [],
   "source": [
    "runners"
   ]
  },
  {
   "cell_type": "markdown",
   "id": "a43a11a6-f8a5-493c-967f-b5d7625acb8f",
   "metadata": {},
   "source": [
    "## Writing DataFrame to CSV file"
   ]
  },
  {
   "cell_type": "code",
   "execution_count": 19,
   "id": "4e5230a6-e6ac-4066-b8da-7bc40cb6c8ed",
   "metadata": {},
   "outputs": [],
   "source": [
    "from pathlib import Path\n",
    "import os\n",
    "\n",
    "os.makedirs(f'../../csv/data', exist_ok=True)\n",
    "df_runners_edited.to_csv(f'../../csv/data/{str(datetime.date.today() + datetime.timedelta(days = -1))}.csv', index=False, encoding='TIS-620')"
   ]
  },
  {
   "cell_type": "code",
   "execution_count": null,
   "id": "f9af2667-e102-4aef-a4d5-5b7b01d89bc6",
   "metadata": {},
   "outputs": [],
   "source": [
    "from pathlib import Path\n",
    "import os\n",
    "\n",
    "os.makedirs(f'../../csv', exist_ok=True)\n",
    "df.to_csv(f'../../csv/{str(datetime.date.today())}.csv', index=False, encoding='TIS-620')"
   ]
  },
  {
   "cell_type": "code",
   "execution_count": null,
   "id": "bb2d9c67-e5d1-464f-b869-3147df535c34",
   "metadata": {},
   "outputs": [],
   "source": [
    "from pathlib import Path\n",
    "import os\n",
    "\n",
    "os.makedirs(f'../../csv/', exist_ok=True)\n",
    "df_name_id.to_csv(f'../../csv/lartstu-runners.csv', index=False, encoding='TIS-620')"
   ]
  },
  {
   "cell_type": "code",
   "execution_count": null,
   "id": "2046a956-ef03-419c-a8db-2088f98a20fb",
   "metadata": {},
   "outputs": [],
   "source": [
    "str(datetime.date.today() + datetime.timedelta(days = -1))"
   ]
  },
  {
   "cell_type": "code",
   "execution_count": null,
   "id": "7917cb69-16f3-47da-80e8-f95526fe1852",
   "metadata": {},
   "outputs": [],
   "source": [
    "driver.quit()"
   ]
  },
  {
   "cell_type": "markdown",
   "id": "0b41b9ea-0be9-4289-87ef-6f3f33681305",
   "metadata": {},
   "source": [
    "## References\n",
    "\n",
    "- https://stackoverflow.com/questions/7370801/how-do-i-measure-elapsed-time-in-python\n",
    "- https://www.lihaoyi.com/post/BuildyourownCommandLinewithANSIescapecodes.html\n",
    "- https://pandas.pydata.org/docs/reference/api/pandas.DataFrame.to_csv.html\n",
    "- https://selenium-python.readthedocs.io/waits.html\n",
    "- https://stackoverflow.com/questions/64717302/deprecationwarning-executable-path-has-been-deprecated-selenium-python"
   ]
  },
  {
   "cell_type": "code",
   "execution_count": null,
   "id": "6bb91336-90d1-4ebe-bd90-21775eb0c9a5",
   "metadata": {},
   "outputs": [],
   "source": []
  }
 ],
 "metadata": {
  "kernelspec": {
   "display_name": "Python 3 (ipykernel)",
   "language": "python",
   "name": "python3"
  },
  "language_info": {
   "codemirror_mode": {
    "name": "ipython",
    "version": 3
   },
   "file_extension": ".py",
   "mimetype": "text/x-python",
   "name": "python",
   "nbconvert_exporter": "python",
   "pygments_lexer": "ipython3",
   "version": "3.9.13"
  }
 },
 "nbformat": 4,
 "nbformat_minor": 5
}
